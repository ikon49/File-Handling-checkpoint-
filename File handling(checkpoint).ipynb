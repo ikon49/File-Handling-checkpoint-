{
 "cells": [
  {
   "cell_type": "code",
   "execution_count": null,
   "id": "ca3056aa-2639-41ab-b1c9-05998e135a5a",
   "metadata": {},
   "outputs": [],
   "source": [
    "# Write a Python program to read an entire text file."
   ]
  },
  {
   "cell_type": "code",
   "execution_count": 1,
   "id": "dd444d7c-b021-4a79-b9a6-aee141645312",
   "metadata": {},
   "outputs": [
    {
     "name": "stdout",
     "output_type": "stream",
     "text": [
      "The file was not found.\n"
     ]
    }
   ],
   "source": [
    "def read_entire_file(file_path):\n",
    "    try:\n",
    "        # Open the file in read mode\n",
    "        with open(file_path, 'r') as file:\n",
    "            # Read the entire content of the file\n",
    "            content = file.read()\n",
    "            return content\n",
    "    except FileNotFoundError:\n",
    "        return \"The file was not found.\"\n",
    "    except IOError:\n",
    "        return \"An error occurred while reading the file.\"\n",
    "\n",
    "# Example usage\n",
    "file_path = 'example.txt'  # Replace with the path to your file\n",
    "file_content = read_entire_file(file_path)\n",
    "print(file_content)\n"
   ]
  },
  {
   "cell_type": "code",
   "execution_count": null,
   "id": "bf1666c1-5970-4014-8170-9fe5985a5720",
   "metadata": {},
   "outputs": [],
   "source": [
    "# Write a Python program to read the first n lines of a file."
   ]
  },
  {
   "cell_type": "code",
   "execution_count": 2,
   "id": "6651caad-d1b1-45ed-a342-295fd842b6e3",
   "metadata": {},
   "outputs": [
    {
     "name": "stdout",
     "output_type": "stream",
     "text": [
      "T\n",
      "h\n",
      "e\n",
      " \n",
      "f\n",
      "i\n",
      "l\n",
      "e\n",
      " \n",
      "w\n",
      "a\n",
      "s\n",
      " \n",
      "n\n",
      "o\n",
      "t\n",
      " \n",
      "f\n",
      "o\n",
      "u\n",
      "n\n",
      "d\n",
      ".\n"
     ]
    }
   ],
   "source": [
    "def read_first_n_lines(file_path, n):\n",
    "    try:\n",
    "        # Open the file in read mode\n",
    "        with open(file_path, 'r') as file:\n",
    "            # Initialize an empty list to store the lines\n",
    "            lines = []\n",
    "            \n",
    "            # Loop through the file, reading one line at a time\n",
    "            for i in range(n):\n",
    "                line = file.readline()\n",
    "                # Break if we reach the end of the file\n",
    "                if not line:\n",
    "                    break\n",
    "                # Append the line to the list\n",
    "                lines.append(line.strip())\n",
    "            \n",
    "            return lines\n",
    "\n",
    "    except FileNotFoundError:\n",
    "        return \"The file was not found.\"\n",
    "    except IOError:\n",
    "        return \"An error occurred while reading the file.\"\n",
    "\n",
    "# Example usage\n",
    "file_path = 'example.txt'  # Replace with the path to your file\n",
    "n = 5  # Number of lines to read\n",
    "first_n_lines = read_first_n_lines(file_path, n)\n",
    "for line in first_n_lines:\n",
    "    print(line)\n"
   ]
  },
  {
   "cell_type": "code",
   "execution_count": null,
   "id": "8365b8de-5886-40c9-bbdd-4c017ebadba7",
   "metadata": {},
   "outputs": [],
   "source": [
    "# Write a Python program to read the last n lines of a file."
   ]
  },
  {
   "cell_type": "code",
   "execution_count": 3,
   "id": "706f0d11-4cbb-4962-901d-669c4f8145fc",
   "metadata": {},
   "outputs": [
    {
     "name": "stdout",
     "output_type": "stream",
     "text": [
      "T\n",
      "h\n",
      "e\n",
      "\n",
      "f\n",
      "i\n",
      "l\n",
      "e\n",
      "\n",
      "w\n",
      "a\n",
      "s\n",
      "\n",
      "n\n",
      "o\n",
      "t\n",
      "\n",
      "f\n",
      "o\n",
      "u\n",
      "n\n",
      "d\n",
      ".\n"
     ]
    }
   ],
   "source": [
    "from collections import deque\n",
    "\n",
    "def read_last_n_lines(file_path, n):\n",
    "    try:\n",
    "        # Open the file in read mode\n",
    "        with open(file_path, 'r') as file:\n",
    "            # Use deque to store the last n lines\n",
    "            lines = deque(file, maxlen=n)\n",
    "            \n",
    "        return list(lines)\n",
    "\n",
    "    except FileNotFoundError:\n",
    "        return \"The file was not found.\"\n",
    "    except IOError:\n",
    "        return \"An error occurred while reading the file.\"\n",
    "\n",
    "# Example usage\n",
    "file_path = 'example.txt'  # Replace with the path to your file\n",
    "n = 5  # Number of lines to read from the end\n",
    "last_n_lines = read_last_n_lines(file_path, n)\n",
    "for line in last_n_lines:\n",
    "    print(line.strip())\n"
   ]
  },
  {
   "cell_type": "code",
   "execution_count": null,
   "id": "b6ca2b42-b8ad-4fd6-9199-c411000fad72",
   "metadata": {},
   "outputs": [],
   "source": [
    "# Write a Python program that takes a text file as input and returns the number of words of a given text file."
   ]
  },
  {
   "cell_type": "code",
   "execution_count": 4,
   "id": "0e69f5f0-9470-42ef-bd3e-c35716d185bd",
   "metadata": {},
   "outputs": [
    {
     "name": "stdout",
     "output_type": "stream",
     "text": [
      "The number of words in the file is: The file was not found.\n"
     ]
    }
   ],
   "source": [
    "def count_words_in_file(file_path):\n",
    "    try:\n",
    "        # Open the file in read mode\n",
    "        with open(file_path, 'r') as file:\n",
    "            # Read the entire content of the file\n",
    "            content = file.read()\n",
    "            \n",
    "            # Split the content into words\n",
    "            words = content.split()\n",
    "            \n",
    "            # Count the number of words\n",
    "            word_count = len(words)\n",
    "            \n",
    "            return word_count\n",
    "    \n",
    "    except FileNotFoundError:\n",
    "        return \"The file was not found.\"\n",
    "    except IOError:\n",
    "        return \"An error occurred while reading the file.\"\n",
    "\n",
    "# Example usage\n",
    "file_path = 'example.txt'  # Replace with the path to your file\n",
    "word_count = count_words_in_file(file_path)\n",
    "print(f\"The number of words in the file is: {word_count}\")\n"
   ]
  },
  {
   "cell_type": "code",
   "execution_count": null,
   "id": "fdaa90ac-0860-448e-85f8-270fff764e47",
   "metadata": {},
   "outputs": [],
   "source": [
    "# (Bonus) Write a Python program to read the last n lines of a file."
   ]
  },
  {
   "cell_type": "code",
   "execution_count": 5,
   "id": "6918d523-2b89-480a-8806-95444fa8673f",
   "metadata": {},
   "outputs": [
    {
     "name": "stdout",
     "output_type": "stream",
     "text": [
      "T\n",
      "h\n",
      "e\n",
      "\n",
      "f\n",
      "i\n",
      "l\n",
      "e\n",
      "\n",
      "w\n",
      "a\n",
      "s\n",
      "\n",
      "n\n",
      "o\n",
      "t\n",
      "\n",
      "f\n",
      "o\n",
      "u\n",
      "n\n",
      "d\n",
      ".\n"
     ]
    }
   ],
   "source": [
    "from collections import deque\n",
    "\n",
    "def read_last_n_lines(file_path, n):\n",
    "    try:\n",
    "        # Open the file in read mode\n",
    "        with open(file_path, 'r') as file:\n",
    "            # Use deque to store the last n lines\n",
    "            last_n_lines = deque(file, maxlen=n)\n",
    "        \n",
    "        # Convert deque to a list and return\n",
    "        return list(last_n_lines)\n",
    "    \n",
    "    except FileNotFoundError:\n",
    "        return \"The file was not found.\"\n",
    "    except IOError:\n",
    "        return \"An error occurred while reading the file.\"\n",
    "\n",
    "# Example usage\n",
    "file_path = 'example.txt'  # Replace with the path to your file\n",
    "n = 5  # Number of lines to read\n",
    "last_n_lines = read_last_n_lines(file_path, n)\n",
    "for line in last_n_lines:\n",
    "    print(line.strip())\n"
   ]
  }
 ],
 "metadata": {
  "kernelspec": {
   "display_name": "Python 3 (ipykernel)",
   "language": "python",
   "name": "python3"
  },
  "language_info": {
   "codemirror_mode": {
    "name": "ipython",
    "version": 3
   },
   "file_extension": ".py",
   "mimetype": "text/x-python",
   "name": "python",
   "nbconvert_exporter": "python",
   "pygments_lexer": "ipython3",
   "version": "3.11.7"
  }
 },
 "nbformat": 4,
 "nbformat_minor": 5
}
